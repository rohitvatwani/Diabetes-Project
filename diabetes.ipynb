{
 "cells": [
  {
   "cell_type": "code",
   "execution_count": 2,
   "metadata": {},
   "outputs": [],
   "source": [
    "import numpy as np\n",
    "import pandas as pd\n",
    "data_test=np.genfromtxt(\"0000000000002329_test_diabetes_x_test.csv\",delimiter=\",\")\n",
    "data_train=np.genfromtxt(\"0000000000002329_training_diabetes_x_y_train.csv\",delimiter=\",\")\n",
    "x_train=data_train[:,0:10]\n",
    "y_train=data_train[:,10]\n",
    "x_test=data_test[:,0:10]"
   ]
  },
  {
   "cell_type": "code",
   "execution_count": 3,
   "metadata": {},
   "outputs": [],
   "source": [
    "from sklearn.linear_model import LinearRegression\n",
    "alg1=LinearRegression()\n",
    "alg1.fit(x_train,y_train)\n",
    "y_pred=alg1.predict(x_test)\n",
    "c=np.savetxt(\"pred.csv\",y_pred,delimiter=\",\",fmt=\"%5f\")"
   ]
  }
 ],
 "metadata": {
  "kernelspec": {
   "display_name": "Python 3",
   "language": "python",
   "name": "python3"
  },
  "language_info": {
   "codemirror_mode": {
    "name": "ipython",
    "version": 3
   },
   "file_extension": ".py",
   "mimetype": "text/x-python",
   "name": "python",
   "nbconvert_exporter": "python",
   "pygments_lexer": "ipython3",
   "version": "3.7.3"
  }
 },
 "nbformat": 4,
 "nbformat_minor": 2
}
